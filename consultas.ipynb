{
 "cells": [
  {
   "cell_type": "markdown",
   "id": "7eb267c1",
   "metadata": {},
   "source": [
    "# Diagrama UML\n",
    "\n",
    "Libro\n",
    "- id (PK)\n",
    "- titulo\n",
    "- precio\n",
    "- rating\n",
    "- in_stock\n",
    "- categoria_id (FK)\n",
    "\n",
    "Autor\n",
    "- id (PK)\n",
    "- nombre\n",
    "\n",
    "Libro_Autor\n",
    "- libro_id (FK)\n",
    "- autor_id (FK)\n",
    "\n",
    "Categoria\n",
    "- id (PK)\n",
    "- nombre"
   ]
  },
  {
   "cell_type": "markdown",
   "id": "c0f2c0e9",
   "metadata": {},
   "source": [
    "# Esquema SQL\n",
    "\n",
    "## DDL\n",
    "\n",
    "CREATE TABLE Categoria (   \n",
    "- id SERIAL PRIMARY KEY,  \n",
    "- nombre TEXT NOT NULL  \n",
    ");\n",
    "\n",
    "\n",
    "CREATE TABLE Autor (  \n",
    "- id SERIAL PRIMARY KEY,  \n",
    "- nombre TEXT NOT NULL  \n",
    ");  \n",
    "\n",
    "CREATE TABLE Libro (  \n",
    "- id SERIAL PRIMARY KEY,  \n",
    "- titulo TEXT NOT NULL,  \n",
    "- precio NUMERIC(6, 2) NOT NULL,  \n",
    "- rating INTEGER NOT NULL,  \n",
    "- in_stock BOOLEAN NOT NULL,  \n",
    "- categoria_id INTEGER NOT NULL,  \n",
    "- FOREIGN KEY (categoria_id) REFERENCES Categoria(id)  \n",
    ");  \n",
    "\n",
    "CREATE TABLE Libro_Autor (  \n",
    "- libro_id INTEGER NOT NULL,  \n",
    "- autor_id INTEGER NOT NULL,  \n",
    "- PRIMARY KEY (libro_id, autor_id),  \n",
    "- FOREIGN KEY (libro_id) REFERENCES Libro(id),  \n",
    "- FOREIGN KEY (autor_id) REFERENCES Autor(id)  \n",
    ");"
   ]
  },
  {
   "cell_type": "code",
   "execution_count": 4,
   "id": "d177146c",
   "metadata": {},
   "outputs": [
    {
     "name": "stdout",
     "output_type": "stream",
     "text": [
      "Requirement already satisfied: requests in c:\\users\\usuario\\appdata\\local\\programs\\python\\python312\\lib\\site-packages (2.32.3)\n",
      "Requirement already satisfied: charset-normalizer<4,>=2 in c:\\users\\usuario\\appdata\\local\\programs\\python\\python312\\lib\\site-packages (from requests) (3.4.2)\n",
      "Requirement already satisfied: idna<4,>=2.5 in c:\\users\\usuario\\appdata\\local\\programs\\python\\python312\\lib\\site-packages (from requests) (3.10)\n",
      "Requirement already satisfied: urllib3<3,>=1.21.1 in c:\\users\\usuario\\appdata\\local\\programs\\python\\python312\\lib\\site-packages (from requests) (2.4.0)\n",
      "Requirement already satisfied: certifi>=2017.4.17 in c:\\users\\usuario\\appdata\\local\\programs\\python\\python312\\lib\\site-packages (from requests) (2025.4.26)\n",
      "Note: you may need to restart the kernel to use updated packages.\n"
     ]
    },
    {
     "name": "stderr",
     "output_type": "stream",
     "text": [
      "\n",
      "[notice] A new release of pip is available: 24.2 -> 25.1.1\n",
      "[notice] To update, run: python.exe -m pip install --upgrade pip\n"
     ]
    },
    {
     "name": "stdout",
     "output_type": "stream",
     "text": [
      "Collecting beautifulsoup4\n",
      "  Using cached beautifulsoup4-4.13.4-py3-none-any.whl.metadata (3.8 kB)\n",
      "Collecting soupsieve>1.2 (from beautifulsoup4)\n",
      "  Using cached soupsieve-2.7-py3-none-any.whl.metadata (4.6 kB)\n",
      "Requirement already satisfied: typing-extensions>=4.0.0 in c:\\users\\usuario\\appdata\\local\\programs\\python\\python312\\lib\\site-packages (from beautifulsoup4) (4.13.2)\n",
      "Using cached beautifulsoup4-4.13.4-py3-none-any.whl (187 kB)\n",
      "Using cached soupsieve-2.7-py3-none-any.whl (36 kB)\n",
      "Installing collected packages: soupsieve, beautifulsoup4\n",
      "Successfully installed beautifulsoup4-4.13.4 soupsieve-2.7\n",
      "Note: you may need to restart the kernel to use updated packages.\n"
     ]
    },
    {
     "name": "stderr",
     "output_type": "stream",
     "text": [
      "\n",
      "[notice] A new release of pip is available: 24.2 -> 25.1.1\n",
      "[notice] To update, run: python.exe -m pip install --upgrade pip\n"
     ]
    }
   ],
   "source": [
    "%pip install requests\n",
    "%pip install beautifulsoup4"
   ]
  },
  {
   "cell_type": "code",
   "execution_count": null,
   "id": "baeb976e",
   "metadata": {},
   "outputs": [
    {
     "name": "stdout",
     "output_type": "stream",
     "text": [
      "A Light in the Attic\n",
      "Tipping the Velvet\n",
      "Soumission\n"
     ]
    }
   ],
   "source": [
    "import requests\n",
    "from bs4 import BeautifulSoup\n",
    "\n",
    "url = 'https://books.toscrape.com/'\n",
    "\n",
    "# obtengo el html crudo\n",
    "response = requests.get(url)\n",
    "\n",
    "# separar por etiquetas (metafora sopa de etiquetas)\n",
    "soup = BeautifulSoup(response.text, 'html.parser')\n",
    "\n",
    "# Extraer los libros en la página donde haya un article con class product_pod\n",
    "libros = soup.select('article.product_pod')\n",
    "\n",
    "# Mostrar los primeros 3 títulos como prueba\n",
    "for libro in libros[:3]:\n",
    "    titulo = libro.h3.a['title']\n",
    "    print(titulo)"
   ]
  }
 ],
 "metadata": {
  "kernelspec": {
   "display_name": "Python 3",
   "language": "python",
   "name": "python3"
  },
  "language_info": {
   "codemirror_mode": {
    "name": "ipython",
    "version": 3
   },
   "file_extension": ".py",
   "mimetype": "text/x-python",
   "name": "python",
   "nbconvert_exporter": "python",
   "pygments_lexer": "ipython3",
   "version": "3.12.5"
  }
 },
 "nbformat": 4,
 "nbformat_minor": 5
}
